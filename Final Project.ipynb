{
 "cells": [
  {
   "cell_type": "code",
   "execution_count": 1,
   "metadata": {},
   "outputs": [],
   "source": [
    "import numpy as np\n",
    "import pandas as pd"
   ]
  },
  {
   "cell_type": "markdown",
   "metadata": {},
   "source": [
    "## Data Overview"
   ]
  },
  {
   "cell_type": "code",
   "execution_count": 2,
   "metadata": {
    "scrolled": true
   },
   "outputs": [],
   "source": [
    "pd.set_option('display.max_columns', None) #show all columns\n",
    "sub = pd.read_csv('subscribers.csv')"
   ]
  },
  {
   "cell_type": "markdown",
   "metadata": {},
   "source": [
    "## Data Preprocessing"
   ]
  },
  {
   "cell_type": "code",
   "execution_count": 3,
   "metadata": {
    "scrolled": true
   },
   "outputs": [
    {
     "data": {
      "text/html": [
       "<div>\n",
       "<style scoped>\n",
       "    .dataframe tbody tr th:only-of-type {\n",
       "        vertical-align: middle;\n",
       "    }\n",
       "\n",
       "    .dataframe tbody tr th {\n",
       "        vertical-align: top;\n",
       "    }\n",
       "\n",
       "    .dataframe thead th {\n",
       "        text-align: right;\n",
       "    }\n",
       "</style>\n",
       "<table border=\"1\" class=\"dataframe\">\n",
       "  <thead>\n",
       "    <tr style=\"text-align: right;\">\n",
       "      <th></th>\n",
       "      <th>subid</th>\n",
       "      <th>package_type</th>\n",
       "      <th>num_weekly_services_utilized</th>\n",
       "      <th>preferred_genre</th>\n",
       "      <th>intended_use</th>\n",
       "      <th>weekly_consumption_hour</th>\n",
       "      <th>num_ideal_streaming_services</th>\n",
       "      <th>age</th>\n",
       "      <th>male_TF</th>\n",
       "      <th>country</th>\n",
       "      <th>attribution_technical</th>\n",
       "      <th>attribution_survey</th>\n",
       "      <th>op_sys</th>\n",
       "      <th>months_per_bill_period</th>\n",
       "      <th>plan_type</th>\n",
       "      <th>monthly_price</th>\n",
       "      <th>discount_price</th>\n",
       "      <th>account_creation_date</th>\n",
       "      <th>trial_end_date</th>\n",
       "      <th>initial_credit_card_declined</th>\n",
       "      <th>join_fee</th>\n",
       "      <th>language</th>\n",
       "      <th>payment_type</th>\n",
       "      <th>num_trial_days</th>\n",
       "      <th>current_sub_TF</th>\n",
       "      <th>payment_period</th>\n",
       "      <th>last_payment</th>\n",
       "      <th>next_payment</th>\n",
       "      <th>cancel_date</th>\n",
       "      <th>trial_completed</th>\n",
       "    </tr>\n",
       "  </thead>\n",
       "  <tbody>\n",
       "    <tr>\n",
       "      <th>0</th>\n",
       "      <td>21724479</td>\n",
       "      <td>economy</td>\n",
       "      <td>NaN</td>\n",
       "      <td>comedy</td>\n",
       "      <td>access to exclusive content</td>\n",
       "      <td>NaN</td>\n",
       "      <td>NaN</td>\n",
       "      <td>NaN</td>\n",
       "      <td>False</td>\n",
       "      <td>UAE</td>\n",
       "      <td>facebook</td>\n",
       "      <td>facebook</td>\n",
       "      <td>Android</td>\n",
       "      <td>4</td>\n",
       "      <td>base_uae_14_day_trial</td>\n",
       "      <td>4.7343</td>\n",
       "      <td>4.5141</td>\n",
       "      <td>2020-01-24 21:44:16</td>\n",
       "      <td>2020-02-07 21:44:16</td>\n",
       "      <td>False</td>\n",
       "      <td>NaN</td>\n",
       "      <td>ar</td>\n",
       "      <td>Standard Charter</td>\n",
       "      <td>14</td>\n",
       "      <td>True</td>\n",
       "      <td>1</td>\n",
       "      <td>2020-02-07 21:44:16</td>\n",
       "      <td>2020-06-07 21:44:16</td>\n",
       "      <td>NaN</td>\n",
       "      <td>True</td>\n",
       "    </tr>\n",
       "    <tr>\n",
       "      <th>1</th>\n",
       "      <td>23383224</td>\n",
       "      <td>base</td>\n",
       "      <td>NaN</td>\n",
       "      <td>comedy</td>\n",
       "      <td>access to exclusive content</td>\n",
       "      <td>22.951579</td>\n",
       "      <td>NaN</td>\n",
       "      <td>70.0</td>\n",
       "      <td>False</td>\n",
       "      <td>UAE</td>\n",
       "      <td>facebook</td>\n",
       "      <td>facebook</td>\n",
       "      <td>NaN</td>\n",
       "      <td>4</td>\n",
       "      <td>base_uae_14_day_trial</td>\n",
       "      <td>4.7343</td>\n",
       "      <td>4.5141</td>\n",
       "      <td>2020-03-01 15:44:35</td>\n",
       "      <td>2020-03-15 15:44:35</td>\n",
       "      <td>False</td>\n",
       "      <td>0.3303</td>\n",
       "      <td>ar</td>\n",
       "      <td>NaN</td>\n",
       "      <td>14</td>\n",
       "      <td>True</td>\n",
       "      <td>1</td>\n",
       "      <td>2020-03-15 15:44:35</td>\n",
       "      <td>2020-07-15 15:44:35</td>\n",
       "      <td>NaN</td>\n",
       "      <td>True</td>\n",
       "    </tr>\n",
       "    <tr>\n",
       "      <th>2</th>\n",
       "      <td>26844789</td>\n",
       "      <td>enhanced</td>\n",
       "      <td>3.0</td>\n",
       "      <td>regional</td>\n",
       "      <td>replace OTT</td>\n",
       "      <td>36.001186</td>\n",
       "      <td>2.0</td>\n",
       "      <td>25.0</td>\n",
       "      <td>True</td>\n",
       "      <td>UAE</td>\n",
       "      <td>organic</td>\n",
       "      <td>facebook</td>\n",
       "      <td>iOS</td>\n",
       "      <td>4</td>\n",
       "      <td>base_uae_14_day_trial</td>\n",
       "      <td>4.7343</td>\n",
       "      <td>4.5141</td>\n",
       "      <td>2019-12-07 16:37:06</td>\n",
       "      <td>2019-12-21 16:37:06</td>\n",
       "      <td>False</td>\n",
       "      <td>0.1101</td>\n",
       "      <td>ar</td>\n",
       "      <td>NaN</td>\n",
       "      <td>14</td>\n",
       "      <td>False</td>\n",
       "      <td>0</td>\n",
       "      <td>NaN</td>\n",
       "      <td>NaN</td>\n",
       "      <td>NaN</td>\n",
       "      <td>True</td>\n",
       "    </tr>\n",
       "    <tr>\n",
       "      <th>3</th>\n",
       "      <td>29417030</td>\n",
       "      <td>base</td>\n",
       "      <td>NaN</td>\n",
       "      <td>drama</td>\n",
       "      <td>replace OTT</td>\n",
       "      <td>20.051667</td>\n",
       "      <td>NaN</td>\n",
       "      <td>30.0</td>\n",
       "      <td>False</td>\n",
       "      <td>UAE</td>\n",
       "      <td>search</td>\n",
       "      <td>tv</td>\n",
       "      <td>Android</td>\n",
       "      <td>4</td>\n",
       "      <td>base_uae_14_day_trial</td>\n",
       "      <td>4.7343</td>\n",
       "      <td>4.5141</td>\n",
       "      <td>2020-01-27 16:09:32</td>\n",
       "      <td>2020-02-10 16:09:32</td>\n",
       "      <td>False</td>\n",
       "      <td>0.0367</td>\n",
       "      <td>ar</td>\n",
       "      <td>NaN</td>\n",
       "      <td>14</td>\n",
       "      <td>False</td>\n",
       "      <td>0</td>\n",
       "      <td>NaN</td>\n",
       "      <td>NaN</td>\n",
       "      <td>NaN</td>\n",
       "      <td>True</td>\n",
       "    </tr>\n",
       "    <tr>\n",
       "      <th>4</th>\n",
       "      <td>26723159</td>\n",
       "      <td>base</td>\n",
       "      <td>4.0</td>\n",
       "      <td>comedy</td>\n",
       "      <td>replace OTT</td>\n",
       "      <td>22.951579</td>\n",
       "      <td>3.0</td>\n",
       "      <td>28.0</td>\n",
       "      <td>False</td>\n",
       "      <td>UAE</td>\n",
       "      <td>discovery</td>\n",
       "      <td>youtube</td>\n",
       "      <td>iOS</td>\n",
       "      <td>4</td>\n",
       "      <td>base_uae_14_day_trial</td>\n",
       "      <td>4.7343</td>\n",
       "      <td>4.5141</td>\n",
       "      <td>2019-10-05 12:57:07</td>\n",
       "      <td>2019-10-19 12:57:07</td>\n",
       "      <td>False</td>\n",
       "      <td>0.0367</td>\n",
       "      <td>ar</td>\n",
       "      <td>NaN</td>\n",
       "      <td>14</td>\n",
       "      <td>True</td>\n",
       "      <td>2</td>\n",
       "      <td>2020-02-19 12:57:07</td>\n",
       "      <td>2020-06-19 12:57:07</td>\n",
       "      <td>NaN</td>\n",
       "      <td>True</td>\n",
       "    </tr>\n",
       "  </tbody>\n",
       "</table>\n",
       "</div>"
      ],
      "text/plain": [
       "      subid package_type  num_weekly_services_utilized preferred_genre  \\\n",
       "0  21724479      economy                           NaN          comedy   \n",
       "1  23383224         base                           NaN          comedy   \n",
       "2  26844789     enhanced                           3.0        regional   \n",
       "3  29417030         base                           NaN           drama   \n",
       "4  26723159         base                           4.0          comedy   \n",
       "\n",
       "                  intended_use  weekly_consumption_hour  \\\n",
       "0  access to exclusive content                      NaN   \n",
       "1  access to exclusive content                22.951579   \n",
       "2                  replace OTT                36.001186   \n",
       "3                  replace OTT                20.051667   \n",
       "4                  replace OTT                22.951579   \n",
       "\n",
       "   num_ideal_streaming_services   age male_TF country attribution_technical  \\\n",
       "0                           NaN   NaN   False     UAE              facebook   \n",
       "1                           NaN  70.0   False     UAE              facebook   \n",
       "2                           2.0  25.0    True     UAE               organic   \n",
       "3                           NaN  30.0   False     UAE                search   \n",
       "4                           3.0  28.0   False     UAE             discovery   \n",
       "\n",
       "  attribution_survey   op_sys  months_per_bill_period              plan_type  \\\n",
       "0           facebook  Android                       4  base_uae_14_day_trial   \n",
       "1           facebook      NaN                       4  base_uae_14_day_trial   \n",
       "2           facebook      iOS                       4  base_uae_14_day_trial   \n",
       "3                 tv  Android                       4  base_uae_14_day_trial   \n",
       "4            youtube      iOS                       4  base_uae_14_day_trial   \n",
       "\n",
       "   monthly_price  discount_price account_creation_date       trial_end_date  \\\n",
       "0         4.7343          4.5141   2020-01-24 21:44:16  2020-02-07 21:44:16   \n",
       "1         4.7343          4.5141   2020-03-01 15:44:35  2020-03-15 15:44:35   \n",
       "2         4.7343          4.5141   2019-12-07 16:37:06  2019-12-21 16:37:06   \n",
       "3         4.7343          4.5141   2020-01-27 16:09:32  2020-02-10 16:09:32   \n",
       "4         4.7343          4.5141   2019-10-05 12:57:07  2019-10-19 12:57:07   \n",
       "\n",
       "   initial_credit_card_declined  join_fee language      payment_type  \\\n",
       "0                         False       NaN       ar  Standard Charter   \n",
       "1                         False    0.3303       ar               NaN   \n",
       "2                         False    0.1101       ar               NaN   \n",
       "3                         False    0.0367       ar               NaN   \n",
       "4                         False    0.0367       ar               NaN   \n",
       "\n",
       "   num_trial_days  current_sub_TF  payment_period         last_payment  \\\n",
       "0              14            True               1  2020-02-07 21:44:16   \n",
       "1              14            True               1  2020-03-15 15:44:35   \n",
       "2              14           False               0                  NaN   \n",
       "3              14           False               0                  NaN   \n",
       "4              14            True               2  2020-02-19 12:57:07   \n",
       "\n",
       "          next_payment cancel_date  trial_completed  \n",
       "0  2020-06-07 21:44:16         NaN             True  \n",
       "1  2020-07-15 15:44:35         NaN             True  \n",
       "2                  NaN         NaN             True  \n",
       "3                  NaN         NaN             True  \n",
       "4  2020-06-19 12:57:07         NaN             True  "
      ]
     },
     "execution_count": 3,
     "metadata": {},
     "output_type": "execute_result"
    }
   ],
   "source": [
    "sub = sub.drop(columns=['Unnamed: 0'])\n",
    "sub.head()"
   ]
  },
  {
   "cell_type": "code",
   "execution_count": 4,
   "metadata": {},
   "outputs": [
    {
     "data": {
      "text/plain": [
       "True     130250\n",
       "False     97378\n",
       "Name: current_sub_TF, dtype: int64"
      ]
     },
     "execution_count": 4,
     "metadata": {},
     "output_type": "execute_result"
    }
   ],
   "source": [
    "sub['current_sub_TF'].value_counts()"
   ]
  },
  {
   "cell_type": "markdown",
   "metadata": {},
   "source": [
    "### Variables that can represent marketing strategies"
   ]
  },
  {
   "cell_type": "code",
   "execution_count": 5,
   "metadata": {},
   "outputs": [
    {
     "data": {
      "text/plain": [
       "14    227458\n",
       "0        170\n",
       "Name: num_trial_days, dtype: int64"
      ]
     },
     "execution_count": 5,
     "metadata": {},
     "output_type": "execute_result"
    }
   ],
   "source": [
    "#Duration of trial days (only two variables: don't count in the future)\n",
    "sub['num_trial_days'].value_counts()"
   ]
  },
  {
   "cell_type": "code",
   "execution_count": 6,
   "metadata": {},
   "outputs": [
    {
     "data": {
      "text/plain": [
       "base_uae_14_day_trial                227096\n",
       "high_uae_14_day_trial                   325\n",
       "low_uae_no_trial                        167\n",
       "base_eur_14_day_trial                    18\n",
       "high_sar_14_day_trial                    12\n",
       "low_gbp_14_day_trial                      4\n",
       "high_aud_14_day_trial                     2\n",
       "low_eur_no_trial                          1\n",
       "base_uae_no_trial_7_day_guarantee         1\n",
       "low_sar_no_trial                          1\n",
       "high_jpy_14_day_trial                     1\n",
       "Name: plan_type, dtype: int64"
      ]
     },
     "execution_count": 6,
     "metadata": {},
     "output_type": "execute_result"
    }
   ],
   "source": [
    "#Plan type: low/high price\n",
    "sub['plan_type'].value_counts()"
   ]
  },
  {
   "cell_type": "markdown",
   "metadata": {},
   "source": [
    "## AB testing"
   ]
  },
  {
   "cell_type": "code",
   "execution_count": 7,
   "metadata": {},
   "outputs": [],
   "source": [
    "from scipy.stats import norm"
   ]
  },
  {
   "cell_type": "code",
   "execution_count": 8,
   "metadata": {},
   "outputs": [
    {
     "data": {
      "text/plain": [
       "227096"
      ]
     },
     "execution_count": 8,
     "metadata": {},
     "output_type": "execute_result"
    }
   ],
   "source": [
    "sub_groupA = sub[sub['plan_type']=='base_uae_14_day_trial']\n",
    "sub_groupA.shape[0]"
   ]
  },
  {
   "cell_type": "code",
   "execution_count": 9,
   "metadata": {},
   "outputs": [
    {
     "data": {
      "text/plain": [
       "325"
      ]
     },
     "execution_count": 9,
     "metadata": {},
     "output_type": "execute_result"
    }
   ],
   "source": [
    "sub_groupB = sub[sub['plan_type']=='high_uae_14_day_trial']\n",
    "sub_groupB.shape[0]"
   ]
  },
  {
   "cell_type": "code",
   "execution_count": 10,
   "metadata": {},
   "outputs": [
    {
     "data": {
      "text/plain": [
       "True     130009\n",
       "False     97087\n",
       "Name: current_sub_TF, dtype: int64"
      ]
     },
     "execution_count": 10,
     "metadata": {},
     "output_type": "execute_result"
    }
   ],
   "source": [
    "sub_groupA['current_sub_TF'].value_counts()"
   ]
  },
  {
   "cell_type": "code",
   "execution_count": 11,
   "metadata": {
    "scrolled": true
   },
   "outputs": [
    {
     "data": {
      "text/plain": [
       "True     179\n",
       "False    146\n",
       "Name: current_sub_TF, dtype: int64"
      ]
     },
     "execution_count": 11,
     "metadata": {},
     "output_type": "execute_result"
    }
   ],
   "source": [
    "sub_groupB['current_sub_TF'].value_counts()"
   ]
  },
  {
   "cell_type": "code",
   "execution_count": 12,
   "metadata": {},
   "outputs": [],
   "source": [
    "p_hat = 179/325\n",
    "p = 130009/227096\n",
    "sigma_p_hat = np.sqrt((p*(1-p)/325))"
   ]
  },
  {
   "cell_type": "code",
   "execution_count": 13,
   "metadata": {},
   "outputs": [
    {
     "data": {
      "text/plain": [
       "-0.7913241440560812"
      ]
     },
     "execution_count": 13,
     "metadata": {},
     "output_type": "execute_result"
    }
   ],
   "source": [
    "z = (p_hat-p)/sigma_p_hat\n",
    "z"
   ]
  },
  {
   "cell_type": "code",
   "execution_count": 14,
   "metadata": {},
   "outputs": [
    {
     "data": {
      "text/plain": [
       "0.7856225686281071"
      ]
     },
     "execution_count": 14,
     "metadata": {},
     "output_type": "execute_result"
    }
   ],
   "source": [
    "p_value = norm().sf(z) #sf = 1-CDF\n",
    "p_value"
   ]
  },
  {
   "cell_type": "code",
   "execution_count": 15,
   "metadata": {},
   "outputs": [
    {
     "data": {
      "text/plain": [
       "167"
      ]
     },
     "execution_count": 15,
     "metadata": {},
     "output_type": "execute_result"
    }
   ],
   "source": [
    "sub_groupC = sub[sub['plan_type']=='low_uae_no_trial']\n",
    "sub_groupC.shape[0]"
   ]
  },
  {
   "cell_type": "code",
   "execution_count": 16,
   "metadata": {},
   "outputs": [
    {
     "data": {
      "text/plain": [
       "False    122\n",
       "True      45\n",
       "Name: current_sub_TF, dtype: int64"
      ]
     },
     "execution_count": 16,
     "metadata": {},
     "output_type": "execute_result"
    }
   ],
   "source": [
    "sub_groupC['current_sub_TF'].value_counts()"
   ]
  },
  {
   "cell_type": "code",
   "execution_count": 17,
   "metadata": {},
   "outputs": [],
   "source": [
    "p_c_hat = 45/167"
   ]
  },
  {
   "cell_type": "code",
   "execution_count": 18,
   "metadata": {},
   "outputs": [
    {
     "data": {
      "text/plain": [
       "-0.5672453856783187"
      ]
     },
     "execution_count": 18,
     "metadata": {},
     "output_type": "execute_result"
    }
   ],
   "source": [
    "(p_hat-p)/np.sqrt((p*(1-p)/167))"
   ]
  },
  {
   "cell_type": "code",
   "execution_count": 19,
   "metadata": {},
   "outputs": [
    {
     "data": {
      "text/plain": [
       "0.7147262616886856"
      ]
     },
     "execution_count": 19,
     "metadata": {},
     "output_type": "execute_result"
    }
   ],
   "source": [
    "norm().sf((p_hat-p)/np.sqrt((p*(1-p)/167)))"
   ]
  },
  {
   "cell_type": "markdown",
   "metadata": {},
   "source": [
    "## Allocation by month"
   ]
  },
  {
   "cell_type": "code",
   "execution_count": 20,
   "metadata": {},
   "outputs": [],
   "source": [
    "sub_pickle = pd.read_pickle('subscribers')"
   ]
  },
  {
   "cell_type": "code",
   "execution_count": 21,
   "metadata": {},
   "outputs": [
    {
     "data": {
      "text/html": [
       "<div>\n",
       "<style scoped>\n",
       "    .dataframe tbody tr th:only-of-type {\n",
       "        vertical-align: middle;\n",
       "    }\n",
       "\n",
       "    .dataframe tbody tr th {\n",
       "        vertical-align: top;\n",
       "    }\n",
       "\n",
       "    .dataframe thead th {\n",
       "        text-align: right;\n",
       "    }\n",
       "</style>\n",
       "<table border=\"1\" class=\"dataframe\">\n",
       "  <thead>\n",
       "    <tr style=\"text-align: right;\">\n",
       "      <th></th>\n",
       "      <th>channel</th>\n",
       "      <th>date</th>\n",
       "      <th>spend_AED</th>\n",
       "    </tr>\n",
       "  </thead>\n",
       "  <tbody>\n",
       "    <tr>\n",
       "      <th>0</th>\n",
       "      <td>bing</td>\n",
       "      <td>201907</td>\n",
       "      <td>400</td>\n",
       "    </tr>\n",
       "    <tr>\n",
       "      <th>1</th>\n",
       "      <td>display</td>\n",
       "      <td>201907</td>\n",
       "      <td>12</td>\n",
       "    </tr>\n",
       "    <tr>\n",
       "      <th>2</th>\n",
       "      <td>facebook</td>\n",
       "      <td>201907</td>\n",
       "      <td>9000</td>\n",
       "    </tr>\n",
       "    <tr>\n",
       "      <th>3</th>\n",
       "      <td>search</td>\n",
       "      <td>201907</td>\n",
       "      <td>13000</td>\n",
       "    </tr>\n",
       "    <tr>\n",
       "      <th>4</th>\n",
       "      <td>youtube</td>\n",
       "      <td>201907</td>\n",
       "      <td>90</td>\n",
       "    </tr>\n",
       "  </tbody>\n",
       "</table>\n",
       "</div>"
      ],
      "text/plain": [
       "    channel    date  spend_AED\n",
       "0      bing  201907        400\n",
       "1   display  201907         12\n",
       "2  facebook  201907       9000\n",
       "3    search  201907      13000\n",
       "4   youtube  201907         90"
      ]
     },
     "execution_count": 21,
     "metadata": {},
     "output_type": "execute_result"
    }
   ],
   "source": [
    "spend = pd.read_csv('channel_spend_graduate.csv')\n",
    "spend.head()"
   ]
  },
  {
   "cell_type": "code",
   "execution_count": 22,
   "metadata": {
    "scrolled": true
   },
   "outputs": [
    {
     "data": {
      "text/plain": [
       "bing        8\n",
       "display     8\n",
       "facebook    8\n",
       "search      8\n",
       "youtube     8\n",
       "Name: channel, dtype: int64"
      ]
     },
     "execution_count": 22,
     "metadata": {},
     "output_type": "execute_result"
    }
   ],
   "source": [
    "spend.channel.value_counts()"
   ]
  },
  {
   "cell_type": "code",
   "execution_count": 23,
   "metadata": {},
   "outputs": [],
   "source": [
    "from datetime import datetime"
   ]
  },
  {
   "cell_type": "code",
   "execution_count": 24,
   "metadata": {},
   "outputs": [],
   "source": [
    "sub_all = pd.DataFrame()\n",
    "sub_all['subid'] = sub_pickle.subid.copy()\n",
    "sub_all['account_creation_date'] = sub_pickle.account_creation_date.apply(lambda x:pd.to_datetime(x)).copy()\n",
    "sub_all['account_creation_month']= sub_all.account_creation_date.dt.year.apply(lambda x:str(x)) + sub_all.account_creation_date.dt.month.map(\"{:02}\".format).apply(lambda x:str(x)).copy()\n",
    "sub_all['attribution_technical'] = sub_pickle.attribution_technical.copy()\n",
    "sub_all['attribution_survey'] = sub_pickle.attribution_survey.copy()\n",
    "sub_all['revenue_net'] = sub_pickle.revenue_net.copy()"
   ]
  },
  {
   "cell_type": "code",
   "execution_count": 25,
   "metadata": {
    "scrolled": true
   },
   "outputs": [
    {
     "data": {
      "text/html": [
       "<div>\n",
       "<style scoped>\n",
       "    .dataframe tbody tr th:only-of-type {\n",
       "        vertical-align: middle;\n",
       "    }\n",
       "\n",
       "    .dataframe tbody tr th {\n",
       "        vertical-align: top;\n",
       "    }\n",
       "\n",
       "    .dataframe thead th {\n",
       "        text-align: right;\n",
       "    }\n",
       "</style>\n",
       "<table border=\"1\" class=\"dataframe\">\n",
       "  <thead>\n",
       "    <tr style=\"text-align: right;\">\n",
       "      <th></th>\n",
       "      <th>subid</th>\n",
       "      <th>account_creation_date</th>\n",
       "      <th>account_creation_month</th>\n",
       "      <th>attribution_technical</th>\n",
       "      <th>attribution_survey</th>\n",
       "      <th>revenue_net</th>\n",
       "    </tr>\n",
       "  </thead>\n",
       "  <tbody>\n",
       "    <tr>\n",
       "      <th>162502</th>\n",
       "      <td>21724479</td>\n",
       "      <td>2020-01-24 21:44:16</td>\n",
       "      <td>202001</td>\n",
       "      <td>facebook</td>\n",
       "      <td>facebook</td>\n",
       "      <td>NaN</td>\n",
       "    </tr>\n",
       "    <tr>\n",
       "      <th>380374</th>\n",
       "      <td>23383224</td>\n",
       "      <td>2020-03-01 15:44:35</td>\n",
       "      <td>202003</td>\n",
       "      <td>facebook</td>\n",
       "      <td>facebook</td>\n",
       "      <td>0.0</td>\n",
       "    </tr>\n",
       "    <tr>\n",
       "      <th>496617</th>\n",
       "      <td>26844789</td>\n",
       "      <td>2019-12-07 16:37:06</td>\n",
       "      <td>201912</td>\n",
       "      <td>organic</td>\n",
       "      <td>facebook</td>\n",
       "      <td>0.0</td>\n",
       "    </tr>\n",
       "    <tr>\n",
       "      <th>356799</th>\n",
       "      <td>29417030</td>\n",
       "      <td>2020-01-27 16:09:32</td>\n",
       "      <td>202001</td>\n",
       "      <td>search</td>\n",
       "      <td>tv</td>\n",
       "      <td>0.0</td>\n",
       "    </tr>\n",
       "    <tr>\n",
       "      <th>681701</th>\n",
       "      <td>26723159</td>\n",
       "      <td>2019-10-05 12:57:07</td>\n",
       "      <td>201910</td>\n",
       "      <td>discovery</td>\n",
       "      <td>youtube</td>\n",
       "      <td>0.0</td>\n",
       "    </tr>\n",
       "  </tbody>\n",
       "</table>\n",
       "</div>"
      ],
      "text/plain": [
       "           subid account_creation_date account_creation_month  \\\n",
       "162502  21724479   2020-01-24 21:44:16                 202001   \n",
       "380374  23383224   2020-03-01 15:44:35                 202003   \n",
       "496617  26844789   2019-12-07 16:37:06                 201912   \n",
       "356799  29417030   2020-01-27 16:09:32                 202001   \n",
       "681701  26723159   2019-10-05 12:57:07                 201910   \n",
       "\n",
       "       attribution_technical attribution_survey  revenue_net  \n",
       "162502              facebook           facebook          NaN  \n",
       "380374              facebook           facebook          0.0  \n",
       "496617               organic           facebook          0.0  \n",
       "356799                search                 tv          0.0  \n",
       "681701             discovery            youtube          0.0  "
      ]
     },
     "execution_count": 25,
     "metadata": {},
     "output_type": "execute_result"
    }
   ],
   "source": [
    "sub_all.head()"
   ]
  },
  {
   "cell_type": "code",
   "execution_count": 26,
   "metadata": {},
   "outputs": [],
   "source": [
    "sub_all = sub_all.loc[sub_all['attribution_technical'].isin(['bing','display','facebook','search','youtube'])]"
   ]
  },
  {
   "cell_type": "code",
   "execution_count": 27,
   "metadata": {},
   "outputs": [],
   "source": [
    "attribution_technical_number_month = sub_all[['account_creation_month','attribution_technical']].value_counts().to_frame()\n",
    "# attribution_survey_number_month = sub_all[['account_creation_month','attribution_survey']].value_counts().to_frame()\n",
    "attribution_technical_number_month = attribution_technical_number_month.reset_index()\n",
    "# attribution_survey_number_month = attribution_survey_number_month.reset_index()\n",
    "attribution_technical_number_month.columns = ['date','channel','number_user']\n",
    "# attribution_survey_number_month.columns = ['date','channel','number_user']"
   ]
  },
  {
   "cell_type": "code",
   "execution_count": 28,
   "metadata": {
    "scrolled": false
   },
   "outputs": [
    {
     "data": {
      "text/html": [
       "<div>\n",
       "<style scoped>\n",
       "    .dataframe tbody tr th:only-of-type {\n",
       "        vertical-align: middle;\n",
       "    }\n",
       "\n",
       "    .dataframe tbody tr th {\n",
       "        vertical-align: top;\n",
       "    }\n",
       "\n",
       "    .dataframe thead th {\n",
       "        text-align: right;\n",
       "    }\n",
       "</style>\n",
       "<table border=\"1\" class=\"dataframe\">\n",
       "  <thead>\n",
       "    <tr style=\"text-align: right;\">\n",
       "      <th></th>\n",
       "      <th>date</th>\n",
       "      <th>channel</th>\n",
       "      <th>number_user</th>\n",
       "    </tr>\n",
       "  </thead>\n",
       "  <tbody>\n",
       "    <tr>\n",
       "      <th>0</th>\n",
       "      <td>201911</td>\n",
       "      <td>facebook</td>\n",
       "      <td>12995</td>\n",
       "    </tr>\n",
       "    <tr>\n",
       "      <th>1</th>\n",
       "      <td>201907</td>\n",
       "      <td>facebook</td>\n",
       "      <td>10011</td>\n",
       "    </tr>\n",
       "    <tr>\n",
       "      <th>2</th>\n",
       "      <td>201908</td>\n",
       "      <td>facebook</td>\n",
       "      <td>9855</td>\n",
       "    </tr>\n",
       "    <tr>\n",
       "      <th>3</th>\n",
       "      <td>201910</td>\n",
       "      <td>facebook</td>\n",
       "      <td>9489</td>\n",
       "    </tr>\n",
       "    <tr>\n",
       "      <th>4</th>\n",
       "      <td>201912</td>\n",
       "      <td>facebook</td>\n",
       "      <td>9288</td>\n",
       "    </tr>\n",
       "  </tbody>\n",
       "</table>\n",
       "</div>"
      ],
      "text/plain": [
       "     date   channel  number_user\n",
       "0  201911  facebook        12995\n",
       "1  201907  facebook        10011\n",
       "2  201908  facebook         9855\n",
       "3  201910  facebook         9489\n",
       "4  201912  facebook         9288"
      ]
     },
     "execution_count": 28,
     "metadata": {},
     "output_type": "execute_result"
    }
   ],
   "source": [
    "attribution_technical_number_month.head()"
   ]
  },
  {
   "cell_type": "code",
   "execution_count": 29,
   "metadata": {},
   "outputs": [],
   "source": [
    "spend['date'] = spend['date'].astype('str')"
   ]
  },
  {
   "cell_type": "code",
   "execution_count": 30,
   "metadata": {},
   "outputs": [],
   "source": [
    "attribution_technical_number_month = pd.merge(attribution_technical_number_month, spend, on=['date','channel'])"
   ]
  },
  {
   "cell_type": "code",
   "execution_count": 31,
   "metadata": {},
   "outputs": [
    {
     "data": {
      "text/html": [
       "<div>\n",
       "<style scoped>\n",
       "    .dataframe tbody tr th:only-of-type {\n",
       "        vertical-align: middle;\n",
       "    }\n",
       "\n",
       "    .dataframe tbody tr th {\n",
       "        vertical-align: top;\n",
       "    }\n",
       "\n",
       "    .dataframe thead th {\n",
       "        text-align: right;\n",
       "    }\n",
       "</style>\n",
       "<table border=\"1\" class=\"dataframe\">\n",
       "  <thead>\n",
       "    <tr style=\"text-align: right;\">\n",
       "      <th></th>\n",
       "      <th>date</th>\n",
       "      <th>channel</th>\n",
       "      <th>number_user</th>\n",
       "      <th>spend_AED</th>\n",
       "      <th>CAC</th>\n",
       "    </tr>\n",
       "  </thead>\n",
       "  <tbody>\n",
       "    <tr>\n",
       "      <th>0</th>\n",
       "      <td>201911</td>\n",
       "      <td>facebook</td>\n",
       "      <td>12995</td>\n",
       "      <td>23000</td>\n",
       "      <td>1.769912</td>\n",
       "    </tr>\n",
       "    <tr>\n",
       "      <th>1</th>\n",
       "      <td>201907</td>\n",
       "      <td>facebook</td>\n",
       "      <td>10011</td>\n",
       "      <td>9000</td>\n",
       "      <td>0.899011</td>\n",
       "    </tr>\n",
       "    <tr>\n",
       "      <th>2</th>\n",
       "      <td>201908</td>\n",
       "      <td>facebook</td>\n",
       "      <td>9855</td>\n",
       "      <td>13000</td>\n",
       "      <td>1.319127</td>\n",
       "    </tr>\n",
       "    <tr>\n",
       "      <th>3</th>\n",
       "      <td>201910</td>\n",
       "      <td>facebook</td>\n",
       "      <td>9489</td>\n",
       "      <td>17000</td>\n",
       "      <td>1.791548</td>\n",
       "    </tr>\n",
       "    <tr>\n",
       "      <th>4</th>\n",
       "      <td>201912</td>\n",
       "      <td>facebook</td>\n",
       "      <td>9288</td>\n",
       "      <td>16000</td>\n",
       "      <td>1.722653</td>\n",
       "    </tr>\n",
       "  </tbody>\n",
       "</table>\n",
       "</div>"
      ],
      "text/plain": [
       "     date   channel  number_user  spend_AED       CAC\n",
       "0  201911  facebook        12995      23000  1.769912\n",
       "1  201907  facebook        10011       9000  0.899011\n",
       "2  201908  facebook         9855      13000  1.319127\n",
       "3  201910  facebook         9489      17000  1.791548\n",
       "4  201912  facebook         9288      16000  1.722653"
      ]
     },
     "execution_count": 31,
     "metadata": {},
     "output_type": "execute_result"
    }
   ],
   "source": [
    "attribution_technical_number_month['CAC'] = attribution_technical_number_month['spend_AED']/attribution_technical_number_month.number_user\n",
    "attribution_technical_number_month.head()"
   ]
  },
  {
   "cell_type": "markdown",
   "metadata": {},
   "source": [
    "## Allocation - total"
   ]
  },
  {
   "cell_type": "code",
   "execution_count": 32,
   "metadata": {},
   "outputs": [],
   "source": [
    "attribution_technical_total = sub_all[['attribution_technical']].value_counts().to_frame()"
   ]
  },
  {
   "cell_type": "code",
   "execution_count": 33,
   "metadata": {},
   "outputs": [],
   "source": [
    "attribution_technical_total = attribution_technical_total.reset_index()"
   ]
  },
  {
   "cell_type": "code",
   "execution_count": 34,
   "metadata": {},
   "outputs": [
    {
     "data": {
      "text/html": [
       "<div>\n",
       "<style scoped>\n",
       "    .dataframe tbody tr th:only-of-type {\n",
       "        vertical-align: middle;\n",
       "    }\n",
       "\n",
       "    .dataframe tbody tr th {\n",
       "        vertical-align: top;\n",
       "    }\n",
       "\n",
       "    .dataframe thead th {\n",
       "        text-align: right;\n",
       "    }\n",
       "</style>\n",
       "<table border=\"1\" class=\"dataframe\">\n",
       "  <thead>\n",
       "    <tr style=\"text-align: right;\">\n",
       "      <th></th>\n",
       "      <th>spend_AED</th>\n",
       "    </tr>\n",
       "    <tr>\n",
       "      <th>channel</th>\n",
       "      <th></th>\n",
       "    </tr>\n",
       "  </thead>\n",
       "  <tbody>\n",
       "    <tr>\n",
       "      <th>bing</th>\n",
       "      <td>10800</td>\n",
       "    </tr>\n",
       "    <tr>\n",
       "      <th>display</th>\n",
       "      <td>366</td>\n",
       "    </tr>\n",
       "    <tr>\n",
       "      <th>facebook</th>\n",
       "      <td>113500</td>\n",
       "    </tr>\n",
       "    <tr>\n",
       "      <th>search</th>\n",
       "      <td>222500</td>\n",
       "    </tr>\n",
       "    <tr>\n",
       "      <th>youtube</th>\n",
       "      <td>8730</td>\n",
       "    </tr>\n",
       "  </tbody>\n",
       "</table>\n",
       "</div>"
      ],
      "text/plain": [
       "          spend_AED\n",
       "channel            \n",
       "bing          10800\n",
       "display         366\n",
       "facebook     113500\n",
       "search       222500\n",
       "youtube        8730"
      ]
     },
     "execution_count": 34,
     "metadata": {},
     "output_type": "execute_result"
    }
   ],
   "source": [
    "spend_total = spend.groupby('channel').sum('spend_AED')\n",
    "spend_total"
   ]
  },
  {
   "cell_type": "code",
   "execution_count": 35,
   "metadata": {},
   "outputs": [],
   "source": [
    "attribution_technical_total.columns = ['channel','number_user']"
   ]
  },
  {
   "cell_type": "code",
   "execution_count": 36,
   "metadata": {},
   "outputs": [],
   "source": [
    "attribution_technical_total = pd.merge(attribution_technical_total, spend_total, on=['channel'])"
   ]
  },
  {
   "cell_type": "code",
   "execution_count": 37,
   "metadata": {},
   "outputs": [],
   "source": [
    "attribution_technical_total['avg_CAC'] = attribution_technical_total['spend_AED']\\\n",
    "/attribution_technical_total['number_user']"
   ]
  },
  {
   "cell_type": "code",
   "execution_count": 38,
   "metadata": {},
   "outputs": [
    {
     "data": {
      "text/html": [
       "<div>\n",
       "<style scoped>\n",
       "    .dataframe tbody tr th:only-of-type {\n",
       "        vertical-align: middle;\n",
       "    }\n",
       "\n",
       "    .dataframe tbody tr th {\n",
       "        vertical-align: top;\n",
       "    }\n",
       "\n",
       "    .dataframe thead th {\n",
       "        text-align: right;\n",
       "    }\n",
       "</style>\n",
       "<table border=\"1\" class=\"dataframe\">\n",
       "  <thead>\n",
       "    <tr style=\"text-align: right;\">\n",
       "      <th></th>\n",
       "      <th>channel</th>\n",
       "      <th>number_user</th>\n",
       "      <th>spend_AED</th>\n",
       "      <th>avg_CAC</th>\n",
       "    </tr>\n",
       "  </thead>\n",
       "  <tbody>\n",
       "    <tr>\n",
       "      <th>0</th>\n",
       "      <td>facebook</td>\n",
       "      <td>80251</td>\n",
       "      <td>113500</td>\n",
       "      <td>1.414313</td>\n",
       "    </tr>\n",
       "    <tr>\n",
       "      <th>1</th>\n",
       "      <td>search</td>\n",
       "      <td>25306</td>\n",
       "      <td>222500</td>\n",
       "      <td>8.792381</td>\n",
       "    </tr>\n",
       "    <tr>\n",
       "      <th>2</th>\n",
       "      <td>display</td>\n",
       "      <td>1407</td>\n",
       "      <td>366</td>\n",
       "      <td>0.260128</td>\n",
       "    </tr>\n",
       "    <tr>\n",
       "      <th>3</th>\n",
       "      <td>bing</td>\n",
       "      <td>1146</td>\n",
       "      <td>10800</td>\n",
       "      <td>9.424084</td>\n",
       "    </tr>\n",
       "    <tr>\n",
       "      <th>4</th>\n",
       "      <td>youtube</td>\n",
       "      <td>913</td>\n",
       "      <td>8730</td>\n",
       "      <td>9.561884</td>\n",
       "    </tr>\n",
       "  </tbody>\n",
       "</table>\n",
       "</div>"
      ],
      "text/plain": [
       "    channel  number_user  spend_AED   avg_CAC\n",
       "0  facebook        80251     113500  1.414313\n",
       "1    search        25306     222500  8.792381\n",
       "2   display         1407        366  0.260128\n",
       "3      bing         1146      10800  9.424084\n",
       "4   youtube          913       8730  9.561884"
      ]
     },
     "execution_count": 38,
     "metadata": {},
     "output_type": "execute_result"
    }
   ],
   "source": [
    "attribution_technical_total"
   ]
  },
  {
   "cell_type": "code",
   "execution_count": 39,
   "metadata": {},
   "outputs": [
    {
     "data": {
      "text/html": [
       "<div>\n",
       "<style scoped>\n",
       "    .dataframe tbody tr th:only-of-type {\n",
       "        vertical-align: middle;\n",
       "    }\n",
       "\n",
       "    .dataframe tbody tr th {\n",
       "        vertical-align: top;\n",
       "    }\n",
       "\n",
       "    .dataframe thead th {\n",
       "        text-align: right;\n",
       "    }\n",
       "</style>\n",
       "<table border=\"1\" class=\"dataframe\">\n",
       "  <thead>\n",
       "    <tr style=\"text-align: right;\">\n",
       "      <th></th>\n",
       "      <th>date</th>\n",
       "      <th>channel</th>\n",
       "      <th>number_user</th>\n",
       "      <th>spend_AED</th>\n",
       "      <th>CAC</th>\n",
       "    </tr>\n",
       "  </thead>\n",
       "  <tbody>\n",
       "    <tr>\n",
       "      <th>0</th>\n",
       "      <td>201911</td>\n",
       "      <td>facebook</td>\n",
       "      <td>12995</td>\n",
       "      <td>23000</td>\n",
       "      <td>1.769912</td>\n",
       "    </tr>\n",
       "    <tr>\n",
       "      <th>1</th>\n",
       "      <td>201907</td>\n",
       "      <td>facebook</td>\n",
       "      <td>10011</td>\n",
       "      <td>9000</td>\n",
       "      <td>0.899011</td>\n",
       "    </tr>\n",
       "    <tr>\n",
       "      <th>2</th>\n",
       "      <td>201908</td>\n",
       "      <td>facebook</td>\n",
       "      <td>9855</td>\n",
       "      <td>13000</td>\n",
       "      <td>1.319127</td>\n",
       "    </tr>\n",
       "    <tr>\n",
       "      <th>3</th>\n",
       "      <td>201910</td>\n",
       "      <td>facebook</td>\n",
       "      <td>9489</td>\n",
       "      <td>17000</td>\n",
       "      <td>1.791548</td>\n",
       "    </tr>\n",
       "    <tr>\n",
       "      <th>4</th>\n",
       "      <td>201912</td>\n",
       "      <td>facebook</td>\n",
       "      <td>9288</td>\n",
       "      <td>16000</td>\n",
       "      <td>1.722653</td>\n",
       "    </tr>\n",
       "  </tbody>\n",
       "</table>\n",
       "</div>"
      ],
      "text/plain": [
       "     date   channel  number_user  spend_AED       CAC\n",
       "0  201911  facebook        12995      23000  1.769912\n",
       "1  201907  facebook        10011       9000  0.899011\n",
       "2  201908  facebook         9855      13000  1.319127\n",
       "3  201910  facebook         9489      17000  1.791548\n",
       "4  201912  facebook         9288      16000  1.722653"
      ]
     },
     "execution_count": 39,
     "metadata": {},
     "output_type": "execute_result"
    }
   ],
   "source": [
    "attribution_technical_number_month.head()"
   ]
  },
  {
   "cell_type": "code",
   "execution_count": 40,
   "metadata": {},
   "outputs": [
    {
     "data": {
      "text/plain": [
       "85715"
      ]
     },
     "execution_count": 40,
     "metadata": {},
     "output_type": "execute_result"
    }
   ],
   "source": [
    "first_quarter = attribution_technical_number_month.loc[(attribution_technical_number_month['date']=='201907')\\\n",
    "                                      |(attribution_technical_number_month['date']=='201908')\\\n",
    "                                      |(attribution_technical_number_month['date']=='201909') ,:]\n",
    "first_quarter['spend_AED'].sum()"
   ]
  },
  {
   "cell_type": "code",
   "execution_count": 41,
   "metadata": {},
   "outputs": [
    {
     "data": {
      "text/plain": [
       "147359"
      ]
     },
     "execution_count": 41,
     "metadata": {},
     "output_type": "execute_result"
    }
   ],
   "source": [
    "second_quarter = attribution_technical_number_month.loc[(attribution_technical_number_month['date']=='201910')\\\n",
    "                                      |(attribution_technical_number_month['date']=='201911')\\\n",
    "                                      |(attribution_technical_number_month['date']=='201912') ,:]\n",
    "second_quarter['spend_AED'].sum()"
   ]
  },
  {
   "cell_type": "code",
   "execution_count": 42,
   "metadata": {},
   "outputs": [],
   "source": [
    "third_quarter = attribution_technical_number_month.loc[(attribution_technical_number_month['date']=='202001')\\\n",
    "                                      |(attribution_technical_number_month['date']=='202002') ,:]"
   ]
  },
  {
   "cell_type": "markdown",
   "metadata": {},
   "source": [
    "#### Calculating next quarter's CAC"
   ]
  },
  {
   "cell_type": "code",
   "execution_count": 43,
   "metadata": {},
   "outputs": [],
   "source": [
    "first_month = attribution_technical_number_month.loc[(attribution_technical_number_month['date']=='201907')\\\n",
    "                                      |(attribution_technical_number_month['date']=='201910')\\\n",
    "                                      |(attribution_technical_number_month['date']=='202001') ,:]\n",
    "first_month_CAC = first_month.groupby('channel').sum()"
   ]
  },
  {
   "cell_type": "code",
   "execution_count": 44,
   "metadata": {
    "scrolled": true
   },
   "outputs": [
    {
     "data": {
      "text/html": [
       "<div>\n",
       "<style scoped>\n",
       "    .dataframe tbody tr th:only-of-type {\n",
       "        vertical-align: middle;\n",
       "    }\n",
       "\n",
       "    .dataframe tbody tr th {\n",
       "        vertical-align: top;\n",
       "    }\n",
       "\n",
       "    .dataframe thead th {\n",
       "        text-align: right;\n",
       "    }\n",
       "</style>\n",
       "<table border=\"1\" class=\"dataframe\">\n",
       "  <thead>\n",
       "    <tr style=\"text-align: right;\">\n",
       "      <th></th>\n",
       "      <th>number_user</th>\n",
       "      <th>spend_AED</th>\n",
       "      <th>CAC</th>\n",
       "    </tr>\n",
       "    <tr>\n",
       "      <th>channel</th>\n",
       "      <th></th>\n",
       "      <th></th>\n",
       "      <th></th>\n",
       "    </tr>\n",
       "  </thead>\n",
       "  <tbody>\n",
       "    <tr>\n",
       "      <th>bing</th>\n",
       "      <td>378</td>\n",
       "      <td>3600</td>\n",
       "      <td>9.523810</td>\n",
       "    </tr>\n",
       "    <tr>\n",
       "      <th>display</th>\n",
       "      <td>630</td>\n",
       "      <td>179</td>\n",
       "      <td>0.284127</td>\n",
       "    </tr>\n",
       "    <tr>\n",
       "      <th>facebook</th>\n",
       "      <td>25789</td>\n",
       "      <td>37000</td>\n",
       "      <td>1.434720</td>\n",
       "    </tr>\n",
       "    <tr>\n",
       "      <th>search</th>\n",
       "      <td>7734</td>\n",
       "      <td>78000</td>\n",
       "      <td>10.085337</td>\n",
       "    </tr>\n",
       "    <tr>\n",
       "      <th>youtube</th>\n",
       "      <td>389</td>\n",
       "      <td>4580</td>\n",
       "      <td>11.773779</td>\n",
       "    </tr>\n",
       "  </tbody>\n",
       "</table>\n",
       "</div>"
      ],
      "text/plain": [
       "          number_user  spend_AED        CAC\n",
       "channel                                    \n",
       "bing              378       3600   9.523810\n",
       "display           630        179   0.284127\n",
       "facebook        25789      37000   1.434720\n",
       "search           7734      78000  10.085337\n",
       "youtube           389       4580  11.773779"
      ]
     },
     "execution_count": 44,
     "metadata": {},
     "output_type": "execute_result"
    }
   ],
   "source": [
    "first_month_CAC = first_month_CAC.drop(columns=['CAC'])\n",
    "first_month_CAC['CAC'] =  first_month_CAC['spend_AED']/first_month_CAC['number_user']\n",
    "first_month_CAC.head()"
   ]
  },
  {
   "cell_type": "code",
   "execution_count": 45,
   "metadata": {},
   "outputs": [
    {
     "data": {
      "text/html": [
       "<div>\n",
       "<style scoped>\n",
       "    .dataframe tbody tr th:only-of-type {\n",
       "        vertical-align: middle;\n",
       "    }\n",
       "\n",
       "    .dataframe tbody tr th {\n",
       "        vertical-align: top;\n",
       "    }\n",
       "\n",
       "    .dataframe thead th {\n",
       "        text-align: right;\n",
       "    }\n",
       "</style>\n",
       "<table border=\"1\" class=\"dataframe\">\n",
       "  <thead>\n",
       "    <tr style=\"text-align: right;\">\n",
       "      <th></th>\n",
       "      <th>number_user</th>\n",
       "      <th>spend_AED</th>\n",
       "      <th>CAC</th>\n",
       "    </tr>\n",
       "    <tr>\n",
       "      <th>channel</th>\n",
       "      <th></th>\n",
       "      <th></th>\n",
       "      <th></th>\n",
       "    </tr>\n",
       "  </thead>\n",
       "  <tbody>\n",
       "    <tr>\n",
       "      <th>bing</th>\n",
       "      <td>477</td>\n",
       "      <td>5900</td>\n",
       "      <td>12.368973</td>\n",
       "    </tr>\n",
       "    <tr>\n",
       "      <th>display</th>\n",
       "      <td>505</td>\n",
       "      <td>143</td>\n",
       "      <td>0.283168</td>\n",
       "    </tr>\n",
       "    <tr>\n",
       "      <th>facebook</th>\n",
       "      <td>30838</td>\n",
       "      <td>50000</td>\n",
       "      <td>1.621376</td>\n",
       "    </tr>\n",
       "    <tr>\n",
       "      <th>search</th>\n",
       "      <td>8749</td>\n",
       "      <td>87500</td>\n",
       "      <td>10.001143</td>\n",
       "    </tr>\n",
       "    <tr>\n",
       "      <th>youtube</th>\n",
       "      <td>267</td>\n",
       "      <td>3150</td>\n",
       "      <td>11.797753</td>\n",
       "    </tr>\n",
       "  </tbody>\n",
       "</table>\n",
       "</div>"
      ],
      "text/plain": [
       "          number_user  spend_AED        CAC\n",
       "channel                                    \n",
       "bing              477       5900  12.368973\n",
       "display           505        143   0.283168\n",
       "facebook        30838      50000   1.621376\n",
       "search           8749      87500  10.001143\n",
       "youtube           267       3150  11.797753"
      ]
     },
     "execution_count": 45,
     "metadata": {},
     "output_type": "execute_result"
    }
   ],
   "source": [
    "second_month = attribution_technical_number_month.loc[(attribution_technical_number_month['date']=='201908')\\\n",
    "                                      |(attribution_technical_number_month['date']=='201911')\\\n",
    "                                      |(attribution_technical_number_month['date']=='202002') ,:]\n",
    "second_month_CAC = second_month.groupby('channel').sum()\n",
    "\n",
    "second_month_CAC = second_month_CAC.drop(columns=['CAC'])\n",
    "second_month_CAC['CAC'] =  second_month_CAC['spend_AED']/second_month_CAC['number_user']\n",
    "second_month_CAC.head()"
   ]
  },
  {
   "cell_type": "code",
   "execution_count": 46,
   "metadata": {},
   "outputs": [
    {
     "data": {
      "text/html": [
       "<div>\n",
       "<style scoped>\n",
       "    .dataframe tbody tr th:only-of-type {\n",
       "        vertical-align: middle;\n",
       "    }\n",
       "\n",
       "    .dataframe tbody tr th {\n",
       "        vertical-align: top;\n",
       "    }\n",
       "\n",
       "    .dataframe thead th {\n",
       "        text-align: right;\n",
       "    }\n",
       "</style>\n",
       "<table border=\"1\" class=\"dataframe\">\n",
       "  <thead>\n",
       "    <tr style=\"text-align: right;\">\n",
       "      <th></th>\n",
       "      <th>number_user</th>\n",
       "      <th>spend_AED</th>\n",
       "      <th>CAC</th>\n",
       "    </tr>\n",
       "    <tr>\n",
       "      <th>channel</th>\n",
       "      <th></th>\n",
       "      <th></th>\n",
       "      <th></th>\n",
       "    </tr>\n",
       "  </thead>\n",
       "  <tbody>\n",
       "    <tr>\n",
       "      <th>bing</th>\n",
       "      <td>112</td>\n",
       "      <td>1300</td>\n",
       "      <td>11.607143</td>\n",
       "    </tr>\n",
       "    <tr>\n",
       "      <th>display</th>\n",
       "      <td>124</td>\n",
       "      <td>44</td>\n",
       "      <td>0.354839</td>\n",
       "    </tr>\n",
       "    <tr>\n",
       "      <th>facebook</th>\n",
       "      <td>15417</td>\n",
       "      <td>26500</td>\n",
       "      <td>1.718882</td>\n",
       "    </tr>\n",
       "    <tr>\n",
       "      <th>search</th>\n",
       "      <td>5622</td>\n",
       "      <td>57000</td>\n",
       "      <td>10.138741</td>\n",
       "    </tr>\n",
       "    <tr>\n",
       "      <th>youtube</th>\n",
       "      <td>78</td>\n",
       "      <td>1000</td>\n",
       "      <td>12.820513</td>\n",
       "    </tr>\n",
       "  </tbody>\n",
       "</table>\n",
       "</div>"
      ],
      "text/plain": [
       "          number_user  spend_AED        CAC\n",
       "channel                                    \n",
       "bing              112       1300  11.607143\n",
       "display           124         44   0.354839\n",
       "facebook        15417      26500   1.718882\n",
       "search           5622      57000  10.138741\n",
       "youtube            78       1000  12.820513"
      ]
     },
     "execution_count": 46,
     "metadata": {},
     "output_type": "execute_result"
    }
   ],
   "source": [
    "third_month = attribution_technical_number_month.loc[(attribution_technical_number_month['date']=='201909')\\\n",
    "                                      |(attribution_technical_number_month['date']=='201912'),:]\n",
    "third_month_CAC = third_month.groupby('channel').sum()\n",
    "\n",
    "third_month_CAC = third_month_CAC.drop(columns=['CAC'])\n",
    "third_month_CAC['CAC'] = third_month_CAC['spend_AED']/third_month_CAC['number_user']\n",
    "third_month_CAC.head()"
   ]
  },
  {
   "cell_type": "markdown",
   "metadata": {},
   "source": [
    "## Churn Model"
   ]
  },
  {
   "cell_type": "code",
   "execution_count": 47,
   "metadata": {},
   "outputs": [],
   "source": [
    "df = sub.copy()"
   ]
  },
  {
   "cell_type": "code",
   "execution_count": 48,
   "metadata": {},
   "outputs": [],
   "source": [
    "df['churn_TF'] = df.current_sub_TF.apply(lambda x: 1 if x == False else 0)"
   ]
  },
  {
   "cell_type": "markdown",
   "metadata": {},
   "source": [
    "### Encoding "
   ]
  },
  {
   "cell_type": "code",
   "execution_count": 49,
   "metadata": {},
   "outputs": [],
   "source": [
    "# define the functions for categorization\n",
    "def OTT_utilized(number):\n",
    "    if number == 'Average_OTT':\n",
    "        return('Average_OTT')\n",
    "    else:\n",
    "        number = int(number)\n",
    "        if number >= 0 and number <= 2:\n",
    "            return('Low_OTT')\n",
    "        elif number >= 3 and number <= 5:\n",
    "            return('Average_OTT')\n",
    "        else: \n",
    "            return('High_OTT')\n",
    "        \n",
    "def hours_consumed(number):\n",
    "    if number == 'Average_Consumption':\n",
    "        return('Average_Consumption')\n",
    "    else:\n",
    "        number = int(number)\n",
    "        if number < 21:\n",
    "            return('Light_Consumption')\n",
    "        elif number >= 21 and number < 35:\n",
    "            return('Average_Consumption')\n",
    "        else: \n",
    "            return('High_Consumption')\n",
    "\n",
    "def streaming_service(number):\n",
    "    if number == 'Average_Streaming':\n",
    "        return('Average_Streaming')\n",
    "    else:\n",
    "        number = int(number)\n",
    "        if number <= 1:\n",
    "            return('Low_Streaming')\n",
    "        elif number == 2:\n",
    "            return('Average_Streaming')\n",
    "        else: \n",
    "            return('High_Streaming')\n",
    "\n",
    "def age_range(number):\n",
    "    if number == 'Mid_age':\n",
    "        return('Mid_age')\n",
    "    else:\n",
    "        number = int(number)\n",
    "        if number > 1900 and number < 2020:\n",
    "            number = 2020 - number\n",
    "        else:\n",
    "            pass\n",
    "        if number <= 30:\n",
    "            return('Young')\n",
    "        elif number > 30 and number < 60:\n",
    "            return('Mid_age')\n",
    "        else: \n",
    "            return('Senior')"
   ]
  },
  {
   "cell_type": "code",
   "execution_count": 50,
   "metadata": {},
   "outputs": [],
   "source": [
    "# data cleaning\n",
    "# 1. \"package_type\" (fill_na)\n",
    "df['package_type'] = df['package_type'].fillna('no_package')\n",
    "\n",
    "# 2. \"num_weekly_services_utilized\" (fill_na & categorization)\n",
    "df['num_weekly_services_utilized'] = df['num_weekly_services_utilized'].fillna('Average_OTT')\n",
    "df['OTT_utilized'] = df['num_weekly_services_utilized'].apply(OTT_utilized)\n",
    "\n",
    "# 3. \"weekly_consumption_hour\" (fill_na & categorization)\n",
    "df['weekly_consumption_hour'] = df['weekly_consumption_hour'].fillna('Average_Consumption')\n",
    "df['Consumption_pattern'] = df['weekly_consumption_hour'].apply(hours_consumed)\n",
    "\n",
    "# 4. \"num_ideal_streaming_services\" (fill_na & categorization)\n",
    "df['num_ideal_streaming_services'] = df['num_ideal_streaming_services'].fillna('Average_Streaming')\n",
    "df['Streaming_pattern'] = df['num_ideal_streaming_services'].apply(streaming_service)\n",
    "\n",
    "# 5. \"age\" (fill_na & categorization)\n",
    "df['age'] = df['age'].fillna('Mid_age')\n",
    "df['Age_group'] = df['age'].apply(age_range)"
   ]
  },
  {
   "cell_type": "code",
   "execution_count": 51,
   "metadata": {},
   "outputs": [],
   "source": [
    "cleaned_col = ['subid', 'package_type', 'OTT_utilized',\n",
    "               'Consumption_pattern', 'Streaming_pattern', 'attribution_technical', \n",
    "               'Age_group', 'churn_TF']\n",
    "df_clean = df[cleaned_col].set_index('subid')"
   ]
  },
  {
   "cell_type": "code",
   "execution_count": 52,
   "metadata": {},
   "outputs": [
    {
     "data": {
      "text/html": [
       "<div>\n",
       "<style scoped>\n",
       "    .dataframe tbody tr th:only-of-type {\n",
       "        vertical-align: middle;\n",
       "    }\n",
       "\n",
       "    .dataframe tbody tr th {\n",
       "        vertical-align: top;\n",
       "    }\n",
       "\n",
       "    .dataframe thead th {\n",
       "        text-align: right;\n",
       "    }\n",
       "</style>\n",
       "<table border=\"1\" class=\"dataframe\">\n",
       "  <thead>\n",
       "    <tr style=\"text-align: right;\">\n",
       "      <th></th>\n",
       "      <th>churn_TF</th>\n",
       "      <th>package_type_base</th>\n",
       "      <th>package_type_economy</th>\n",
       "      <th>package_type_enhanced</th>\n",
       "      <th>package_type_no_package</th>\n",
       "      <th>OTT_utilized_Average_OTT</th>\n",
       "      <th>OTT_utilized_High_OTT</th>\n",
       "      <th>OTT_utilized_Low_OTT</th>\n",
       "      <th>Consumption_pattern_Average_Consumption</th>\n",
       "      <th>Consumption_pattern_High_Consumption</th>\n",
       "      <th>Consumption_pattern_Light_Consumption</th>\n",
       "      <th>Streaming_pattern_Average_Streaming</th>\n",
       "      <th>Streaming_pattern_High_Streaming</th>\n",
       "      <th>Streaming_pattern_Low_Streaming</th>\n",
       "      <th>attribution_technical_affiliate</th>\n",
       "      <th>attribution_technical_appstore</th>\n",
       "      <th>attribution_technical_bing</th>\n",
       "      <th>attribution_technical_bing_organic</th>\n",
       "      <th>attribution_technical_brand sem intent bing</th>\n",
       "      <th>attribution_technical_brand sem intent google</th>\n",
       "      <th>attribution_technical_content_greatist</th>\n",
       "      <th>attribution_technical_criteo</th>\n",
       "      <th>attribution_technical_direct_mail</th>\n",
       "      <th>attribution_technical_discovery</th>\n",
       "      <th>attribution_technical_display</th>\n",
       "      <th>attribution_technical_email</th>\n",
       "      <th>attribution_technical_email_blast</th>\n",
       "      <th>attribution_technical_facebook</th>\n",
       "      <th>attribution_technical_facebook_organic</th>\n",
       "      <th>attribution_technical_google_organic</th>\n",
       "      <th>attribution_technical_influencer</th>\n",
       "      <th>attribution_technical_internal</th>\n",
       "      <th>attribution_technical_organic</th>\n",
       "      <th>attribution_technical_other</th>\n",
       "      <th>attribution_technical_ott</th>\n",
       "      <th>attribution_technical_pinterest</th>\n",
       "      <th>attribution_technical_pinterest_organic</th>\n",
       "      <th>attribution_technical_playstore</th>\n",
       "      <th>attribution_technical_podcast</th>\n",
       "      <th>attribution_technical_quora</th>\n",
       "      <th>attribution_technical_referral</th>\n",
       "      <th>attribution_technical_samsung</th>\n",
       "      <th>attribution_technical_search</th>\n",
       "      <th>attribution_technical_tv</th>\n",
       "      <th>attribution_technical_twitter</th>\n",
       "      <th>attribution_technical_vod</th>\n",
       "      <th>attribution_technical_youtube</th>\n",
       "      <th>Age_group_Mid_age</th>\n",
       "      <th>Age_group_Senior</th>\n",
       "      <th>Age_group_Young</th>\n",
       "    </tr>\n",
       "    <tr>\n",
       "      <th>subid</th>\n",
       "      <th></th>\n",
       "      <th></th>\n",
       "      <th></th>\n",
       "      <th></th>\n",
       "      <th></th>\n",
       "      <th></th>\n",
       "      <th></th>\n",
       "      <th></th>\n",
       "      <th></th>\n",
       "      <th></th>\n",
       "      <th></th>\n",
       "      <th></th>\n",
       "      <th></th>\n",
       "      <th></th>\n",
       "      <th></th>\n",
       "      <th></th>\n",
       "      <th></th>\n",
       "      <th></th>\n",
       "      <th></th>\n",
       "      <th></th>\n",
       "      <th></th>\n",
       "      <th></th>\n",
       "      <th></th>\n",
       "      <th></th>\n",
       "      <th></th>\n",
       "      <th></th>\n",
       "      <th></th>\n",
       "      <th></th>\n",
       "      <th></th>\n",
       "      <th></th>\n",
       "      <th></th>\n",
       "      <th></th>\n",
       "      <th></th>\n",
       "      <th></th>\n",
       "      <th></th>\n",
       "      <th></th>\n",
       "      <th></th>\n",
       "      <th></th>\n",
       "      <th></th>\n",
       "      <th></th>\n",
       "      <th></th>\n",
       "      <th></th>\n",
       "      <th></th>\n",
       "      <th></th>\n",
       "      <th></th>\n",
       "      <th></th>\n",
       "      <th></th>\n",
       "      <th></th>\n",
       "      <th></th>\n",
       "      <th></th>\n",
       "    </tr>\n",
       "  </thead>\n",
       "  <tbody>\n",
       "    <tr>\n",
       "      <th>21724479</th>\n",
       "      <td>0</td>\n",
       "      <td>0</td>\n",
       "      <td>1</td>\n",
       "      <td>0</td>\n",
       "      <td>0</td>\n",
       "      <td>1</td>\n",
       "      <td>0</td>\n",
       "      <td>0</td>\n",
       "      <td>1</td>\n",
       "      <td>0</td>\n",
       "      <td>0</td>\n",
       "      <td>1</td>\n",
       "      <td>0</td>\n",
       "      <td>0</td>\n",
       "      <td>0</td>\n",
       "      <td>0</td>\n",
       "      <td>0</td>\n",
       "      <td>0</td>\n",
       "      <td>0</td>\n",
       "      <td>0</td>\n",
       "      <td>0</td>\n",
       "      <td>0</td>\n",
       "      <td>0</td>\n",
       "      <td>0</td>\n",
       "      <td>0</td>\n",
       "      <td>0</td>\n",
       "      <td>0</td>\n",
       "      <td>1</td>\n",
       "      <td>0</td>\n",
       "      <td>0</td>\n",
       "      <td>0</td>\n",
       "      <td>0</td>\n",
       "      <td>0</td>\n",
       "      <td>0</td>\n",
       "      <td>0</td>\n",
       "      <td>0</td>\n",
       "      <td>0</td>\n",
       "      <td>0</td>\n",
       "      <td>0</td>\n",
       "      <td>0</td>\n",
       "      <td>0</td>\n",
       "      <td>0</td>\n",
       "      <td>0</td>\n",
       "      <td>0</td>\n",
       "      <td>0</td>\n",
       "      <td>0</td>\n",
       "      <td>0</td>\n",
       "      <td>1</td>\n",
       "      <td>0</td>\n",
       "      <td>0</td>\n",
       "    </tr>\n",
       "    <tr>\n",
       "      <th>23383224</th>\n",
       "      <td>0</td>\n",
       "      <td>1</td>\n",
       "      <td>0</td>\n",
       "      <td>0</td>\n",
       "      <td>0</td>\n",
       "      <td>1</td>\n",
       "      <td>0</td>\n",
       "      <td>0</td>\n",
       "      <td>1</td>\n",
       "      <td>0</td>\n",
       "      <td>0</td>\n",
       "      <td>1</td>\n",
       "      <td>0</td>\n",
       "      <td>0</td>\n",
       "      <td>0</td>\n",
       "      <td>0</td>\n",
       "      <td>0</td>\n",
       "      <td>0</td>\n",
       "      <td>0</td>\n",
       "      <td>0</td>\n",
       "      <td>0</td>\n",
       "      <td>0</td>\n",
       "      <td>0</td>\n",
       "      <td>0</td>\n",
       "      <td>0</td>\n",
       "      <td>0</td>\n",
       "      <td>0</td>\n",
       "      <td>1</td>\n",
       "      <td>0</td>\n",
       "      <td>0</td>\n",
       "      <td>0</td>\n",
       "      <td>0</td>\n",
       "      <td>0</td>\n",
       "      <td>0</td>\n",
       "      <td>0</td>\n",
       "      <td>0</td>\n",
       "      <td>0</td>\n",
       "      <td>0</td>\n",
       "      <td>0</td>\n",
       "      <td>0</td>\n",
       "      <td>0</td>\n",
       "      <td>0</td>\n",
       "      <td>0</td>\n",
       "      <td>0</td>\n",
       "      <td>0</td>\n",
       "      <td>0</td>\n",
       "      <td>0</td>\n",
       "      <td>0</td>\n",
       "      <td>1</td>\n",
       "      <td>0</td>\n",
       "    </tr>\n",
       "    <tr>\n",
       "      <th>26844789</th>\n",
       "      <td>1</td>\n",
       "      <td>0</td>\n",
       "      <td>0</td>\n",
       "      <td>1</td>\n",
       "      <td>0</td>\n",
       "      <td>1</td>\n",
       "      <td>0</td>\n",
       "      <td>0</td>\n",
       "      <td>0</td>\n",
       "      <td>1</td>\n",
       "      <td>0</td>\n",
       "      <td>1</td>\n",
       "      <td>0</td>\n",
       "      <td>0</td>\n",
       "      <td>0</td>\n",
       "      <td>0</td>\n",
       "      <td>0</td>\n",
       "      <td>0</td>\n",
       "      <td>0</td>\n",
       "      <td>0</td>\n",
       "      <td>0</td>\n",
       "      <td>0</td>\n",
       "      <td>0</td>\n",
       "      <td>0</td>\n",
       "      <td>0</td>\n",
       "      <td>0</td>\n",
       "      <td>0</td>\n",
       "      <td>0</td>\n",
       "      <td>0</td>\n",
       "      <td>0</td>\n",
       "      <td>0</td>\n",
       "      <td>0</td>\n",
       "      <td>1</td>\n",
       "      <td>0</td>\n",
       "      <td>0</td>\n",
       "      <td>0</td>\n",
       "      <td>0</td>\n",
       "      <td>0</td>\n",
       "      <td>0</td>\n",
       "      <td>0</td>\n",
       "      <td>0</td>\n",
       "      <td>0</td>\n",
       "      <td>0</td>\n",
       "      <td>0</td>\n",
       "      <td>0</td>\n",
       "      <td>0</td>\n",
       "      <td>0</td>\n",
       "      <td>0</td>\n",
       "      <td>0</td>\n",
       "      <td>1</td>\n",
       "    </tr>\n",
       "    <tr>\n",
       "      <th>29417030</th>\n",
       "      <td>1</td>\n",
       "      <td>1</td>\n",
       "      <td>0</td>\n",
       "      <td>0</td>\n",
       "      <td>0</td>\n",
       "      <td>1</td>\n",
       "      <td>0</td>\n",
       "      <td>0</td>\n",
       "      <td>0</td>\n",
       "      <td>0</td>\n",
       "      <td>1</td>\n",
       "      <td>1</td>\n",
       "      <td>0</td>\n",
       "      <td>0</td>\n",
       "      <td>0</td>\n",
       "      <td>0</td>\n",
       "      <td>0</td>\n",
       "      <td>0</td>\n",
       "      <td>0</td>\n",
       "      <td>0</td>\n",
       "      <td>0</td>\n",
       "      <td>0</td>\n",
       "      <td>0</td>\n",
       "      <td>0</td>\n",
       "      <td>0</td>\n",
       "      <td>0</td>\n",
       "      <td>0</td>\n",
       "      <td>0</td>\n",
       "      <td>0</td>\n",
       "      <td>0</td>\n",
       "      <td>0</td>\n",
       "      <td>0</td>\n",
       "      <td>0</td>\n",
       "      <td>0</td>\n",
       "      <td>0</td>\n",
       "      <td>0</td>\n",
       "      <td>0</td>\n",
       "      <td>0</td>\n",
       "      <td>0</td>\n",
       "      <td>0</td>\n",
       "      <td>0</td>\n",
       "      <td>0</td>\n",
       "      <td>1</td>\n",
       "      <td>0</td>\n",
       "      <td>0</td>\n",
       "      <td>0</td>\n",
       "      <td>0</td>\n",
       "      <td>0</td>\n",
       "      <td>0</td>\n",
       "      <td>1</td>\n",
       "    </tr>\n",
       "    <tr>\n",
       "      <th>26723159</th>\n",
       "      <td>0</td>\n",
       "      <td>1</td>\n",
       "      <td>0</td>\n",
       "      <td>0</td>\n",
       "      <td>0</td>\n",
       "      <td>1</td>\n",
       "      <td>0</td>\n",
       "      <td>0</td>\n",
       "      <td>1</td>\n",
       "      <td>0</td>\n",
       "      <td>0</td>\n",
       "      <td>0</td>\n",
       "      <td>1</td>\n",
       "      <td>0</td>\n",
       "      <td>0</td>\n",
       "      <td>0</td>\n",
       "      <td>0</td>\n",
       "      <td>0</td>\n",
       "      <td>0</td>\n",
       "      <td>0</td>\n",
       "      <td>0</td>\n",
       "      <td>0</td>\n",
       "      <td>0</td>\n",
       "      <td>1</td>\n",
       "      <td>0</td>\n",
       "      <td>0</td>\n",
       "      <td>0</td>\n",
       "      <td>0</td>\n",
       "      <td>0</td>\n",
       "      <td>0</td>\n",
       "      <td>0</td>\n",
       "      <td>0</td>\n",
       "      <td>0</td>\n",
       "      <td>0</td>\n",
       "      <td>0</td>\n",
       "      <td>0</td>\n",
       "      <td>0</td>\n",
       "      <td>0</td>\n",
       "      <td>0</td>\n",
       "      <td>0</td>\n",
       "      <td>0</td>\n",
       "      <td>0</td>\n",
       "      <td>0</td>\n",
       "      <td>0</td>\n",
       "      <td>0</td>\n",
       "      <td>0</td>\n",
       "      <td>0</td>\n",
       "      <td>0</td>\n",
       "      <td>0</td>\n",
       "      <td>1</td>\n",
       "    </tr>\n",
       "  </tbody>\n",
       "</table>\n",
       "</div>"
      ],
      "text/plain": [
       "          churn_TF  package_type_base  package_type_economy  \\\n",
       "subid                                                         \n",
       "21724479         0                  0                     1   \n",
       "23383224         0                  1                     0   \n",
       "26844789         1                  0                     0   \n",
       "29417030         1                  1                     0   \n",
       "26723159         0                  1                     0   \n",
       "\n",
       "          package_type_enhanced  package_type_no_package  \\\n",
       "subid                                                      \n",
       "21724479                      0                        0   \n",
       "23383224                      0                        0   \n",
       "26844789                      1                        0   \n",
       "29417030                      0                        0   \n",
       "26723159                      0                        0   \n",
       "\n",
       "          OTT_utilized_Average_OTT  OTT_utilized_High_OTT  \\\n",
       "subid                                                       \n",
       "21724479                         1                      0   \n",
       "23383224                         1                      0   \n",
       "26844789                         1                      0   \n",
       "29417030                         1                      0   \n",
       "26723159                         1                      0   \n",
       "\n",
       "          OTT_utilized_Low_OTT  Consumption_pattern_Average_Consumption  \\\n",
       "subid                                                                     \n",
       "21724479                     0                                        1   \n",
       "23383224                     0                                        1   \n",
       "26844789                     0                                        0   \n",
       "29417030                     0                                        0   \n",
       "26723159                     0                                        1   \n",
       "\n",
       "          Consumption_pattern_High_Consumption  \\\n",
       "subid                                            \n",
       "21724479                                     0   \n",
       "23383224                                     0   \n",
       "26844789                                     1   \n",
       "29417030                                     0   \n",
       "26723159                                     0   \n",
       "\n",
       "          Consumption_pattern_Light_Consumption  \\\n",
       "subid                                             \n",
       "21724479                                      0   \n",
       "23383224                                      0   \n",
       "26844789                                      0   \n",
       "29417030                                      1   \n",
       "26723159                                      0   \n",
       "\n",
       "          Streaming_pattern_Average_Streaming  \\\n",
       "subid                                           \n",
       "21724479                                    1   \n",
       "23383224                                    1   \n",
       "26844789                                    1   \n",
       "29417030                                    1   \n",
       "26723159                                    0   \n",
       "\n",
       "          Streaming_pattern_High_Streaming  Streaming_pattern_Low_Streaming  \\\n",
       "subid                                                                         \n",
       "21724479                                 0                                0   \n",
       "23383224                                 0                                0   \n",
       "26844789                                 0                                0   \n",
       "29417030                                 0                                0   \n",
       "26723159                                 1                                0   \n",
       "\n",
       "          attribution_technical_affiliate  attribution_technical_appstore  \\\n",
       "subid                                                                       \n",
       "21724479                                0                               0   \n",
       "23383224                                0                               0   \n",
       "26844789                                0                               0   \n",
       "29417030                                0                               0   \n",
       "26723159                                0                               0   \n",
       "\n",
       "          attribution_technical_bing  attribution_technical_bing_organic  \\\n",
       "subid                                                                      \n",
       "21724479                           0                                   0   \n",
       "23383224                           0                                   0   \n",
       "26844789                           0                                   0   \n",
       "29417030                           0                                   0   \n",
       "26723159                           0                                   0   \n",
       "\n",
       "          attribution_technical_brand sem intent bing  \\\n",
       "subid                                                   \n",
       "21724479                                            0   \n",
       "23383224                                            0   \n",
       "26844789                                            0   \n",
       "29417030                                            0   \n",
       "26723159                                            0   \n",
       "\n",
       "          attribution_technical_brand sem intent google  \\\n",
       "subid                                                     \n",
       "21724479                                              0   \n",
       "23383224                                              0   \n",
       "26844789                                              0   \n",
       "29417030                                              0   \n",
       "26723159                                              0   \n",
       "\n",
       "          attribution_technical_content_greatist  \\\n",
       "subid                                              \n",
       "21724479                                       0   \n",
       "23383224                                       0   \n",
       "26844789                                       0   \n",
       "29417030                                       0   \n",
       "26723159                                       0   \n",
       "\n",
       "          attribution_technical_criteo  attribution_technical_direct_mail  \\\n",
       "subid                                                                       \n",
       "21724479                             0                                  0   \n",
       "23383224                             0                                  0   \n",
       "26844789                             0                                  0   \n",
       "29417030                             0                                  0   \n",
       "26723159                             0                                  0   \n",
       "\n",
       "          attribution_technical_discovery  attribution_technical_display  \\\n",
       "subid                                                                      \n",
       "21724479                                0                              0   \n",
       "23383224                                0                              0   \n",
       "26844789                                0                              0   \n",
       "29417030                                0                              0   \n",
       "26723159                                1                              0   \n",
       "\n",
       "          attribution_technical_email  attribution_technical_email_blast  \\\n",
       "subid                                                                      \n",
       "21724479                            0                                  0   \n",
       "23383224                            0                                  0   \n",
       "26844789                            0                                  0   \n",
       "29417030                            0                                  0   \n",
       "26723159                            0                                  0   \n",
       "\n",
       "          attribution_technical_facebook  \\\n",
       "subid                                      \n",
       "21724479                               1   \n",
       "23383224                               1   \n",
       "26844789                               0   \n",
       "29417030                               0   \n",
       "26723159                               0   \n",
       "\n",
       "          attribution_technical_facebook_organic  \\\n",
       "subid                                              \n",
       "21724479                                       0   \n",
       "23383224                                       0   \n",
       "26844789                                       0   \n",
       "29417030                                       0   \n",
       "26723159                                       0   \n",
       "\n",
       "          attribution_technical_google_organic  \\\n",
       "subid                                            \n",
       "21724479                                     0   \n",
       "23383224                                     0   \n",
       "26844789                                     0   \n",
       "29417030                                     0   \n",
       "26723159                                     0   \n",
       "\n",
       "          attribution_technical_influencer  attribution_technical_internal  \\\n",
       "subid                                                                        \n",
       "21724479                                 0                               0   \n",
       "23383224                                 0                               0   \n",
       "26844789                                 0                               0   \n",
       "29417030                                 0                               0   \n",
       "26723159                                 0                               0   \n",
       "\n",
       "          attribution_technical_organic  attribution_technical_other  \\\n",
       "subid                                                                  \n",
       "21724479                              0                            0   \n",
       "23383224                              0                            0   \n",
       "26844789                              1                            0   \n",
       "29417030                              0                            0   \n",
       "26723159                              0                            0   \n",
       "\n",
       "          attribution_technical_ott  attribution_technical_pinterest  \\\n",
       "subid                                                                  \n",
       "21724479                          0                                0   \n",
       "23383224                          0                                0   \n",
       "26844789                          0                                0   \n",
       "29417030                          0                                0   \n",
       "26723159                          0                                0   \n",
       "\n",
       "          attribution_technical_pinterest_organic  \\\n",
       "subid                                               \n",
       "21724479                                        0   \n",
       "23383224                                        0   \n",
       "26844789                                        0   \n",
       "29417030                                        0   \n",
       "26723159                                        0   \n",
       "\n",
       "          attribution_technical_playstore  attribution_technical_podcast  \\\n",
       "subid                                                                      \n",
       "21724479                                0                              0   \n",
       "23383224                                0                              0   \n",
       "26844789                                0                              0   \n",
       "29417030                                0                              0   \n",
       "26723159                                0                              0   \n",
       "\n",
       "          attribution_technical_quora  attribution_technical_referral  \\\n",
       "subid                                                                   \n",
       "21724479                            0                               0   \n",
       "23383224                            0                               0   \n",
       "26844789                            0                               0   \n",
       "29417030                            0                               0   \n",
       "26723159                            0                               0   \n",
       "\n",
       "          attribution_technical_samsung  attribution_technical_search  \\\n",
       "subid                                                                   \n",
       "21724479                              0                             0   \n",
       "23383224                              0                             0   \n",
       "26844789                              0                             0   \n",
       "29417030                              0                             1   \n",
       "26723159                              0                             0   \n",
       "\n",
       "          attribution_technical_tv  attribution_technical_twitter  \\\n",
       "subid                                                               \n",
       "21724479                         0                              0   \n",
       "23383224                         0                              0   \n",
       "26844789                         0                              0   \n",
       "29417030                         0                              0   \n",
       "26723159                         0                              0   \n",
       "\n",
       "          attribution_technical_vod  attribution_technical_youtube  \\\n",
       "subid                                                                \n",
       "21724479                          0                              0   \n",
       "23383224                          0                              0   \n",
       "26844789                          0                              0   \n",
       "29417030                          0                              0   \n",
       "26723159                          0                              0   \n",
       "\n",
       "          Age_group_Mid_age  Age_group_Senior  Age_group_Young  \n",
       "subid                                                           \n",
       "21724479                  1                 0                0  \n",
       "23383224                  0                 1                0  \n",
       "26844789                  0                 0                1  \n",
       "29417030                  0                 0                1  \n",
       "26723159                  0                 0                1  "
      ]
     },
     "execution_count": 52,
     "metadata": {},
     "output_type": "execute_result"
    }
   ],
   "source": [
    "df_clean = pd.get_dummies(df_clean)\n",
    "df_clean.head()"
   ]
  },
  {
   "cell_type": "markdown",
   "metadata": {},
   "source": [
    "### Model"
   ]
  },
  {
   "cell_type": "code",
   "execution_count": 53,
   "metadata": {},
   "outputs": [],
   "source": [
    "from sklearn.linear_model import LogisticRegression\n",
    "from sklearn.model_selection import train_test_split\n",
    "from sklearn.metrics import roc_auc_score\n",
    "from sklearn.metrics import roc_curve\n",
    "import matplotlib.pyplot as plt\n",
    "from sklearn import metrics\n",
    "from sklearn import model_selection, tree"
   ]
  },
  {
   "cell_type": "code",
   "execution_count": 54,
   "metadata": {},
   "outputs": [],
   "source": [
    "y = df_clean[['churn_TF']]\n",
    "X = df_clean.loc[:, df_clean.columns != 'churn_TF']"
   ]
  },
  {
   "cell_type": "code",
   "execution_count": 55,
   "metadata": {},
   "outputs": [],
   "source": [
    "X_train, X_test, y_train, y_test = train_test_split(X, y, test_size=0.3, random_state=777)"
   ]
  },
  {
   "cell_type": "code",
   "execution_count": 56,
   "metadata": {},
   "outputs": [
    {
     "name": "stderr",
     "output_type": "stream",
     "text": [
      "/opt/anaconda3/lib/python3.7/site-packages/sklearn/utils/validation.py:760: DataConversionWarning: A column-vector y was passed when a 1d array was expected. Please change the shape of y to (n_samples, ), for example using ravel().\n",
      "  y = column_or_1d(y, warn=True)\n"
     ]
    },
    {
     "data": {
      "image/png": "[encoded data removed]",
      "text/plain": [
       "<Figure size 432x288 with 1 Axes>"
      ]
     },
     "metadata": {
      "needs_background": "light"
     },
     "output_type": "display_data"
    }
   ],
   "source": [
    "log_regression = LogisticRegression(max_iter=400)\n",
    "\n",
    "# whole model\n",
    "log_regression.fit(X_train,y_train)\n",
    "y_pred_proba = log_regression.predict_proba(X_test)[::,1] #use predict_proba since it gives continuous outcomes\n",
    "fpr, tpr, _ = metrics.roc_curve(y_test,  y_pred_proba)\n",
    "auc = metrics.auc(fpr, tpr)\n",
    "\n",
    "plt.plot(fpr, tpr, label=\"AUC=\"+str(auc))\n",
    "plt.ylabel('True Positive Rate')\n",
    "plt.xlabel('False Positive Rate')\n",
    "plt.legend(loc=4)\n",
    "plt.show()"
   ]
  },
  {
   "cell_type": "code",
   "execution_count": 57,
   "metadata": {},
   "outputs": [
    {
     "data": {
      "image/png": "[encoded data removed]",
      "text/plain": [
       "<Figure size 432x288 with 1 Axes>"
      ]
     },
     "metadata": {
      "needs_background": "light"
     },
     "output_type": "display_data"
    }
   ],
   "source": [
    "clf = tree.DecisionTreeClassifier(criterion='entropy') \n",
    "\n",
    "# whole model\n",
    "clf.fit(X_train, y_train)\n",
    "\n",
    "y_pred = clf.predict(X_test)\n",
    "fpr, tpr, _ = metrics.roc_curve(y_test,  y_pred)\n",
    "auc = metrics.auc(fpr, tpr)\n",
    "\n",
    "plt.plot(fpr, tpr, label=\"AUC=\"+str(auc))\n",
    "plt.ylabel('True Positive Rate')\n",
    "plt.xlabel('False Positive Rate')\n",
    "plt.legend(loc=4)\n",
    "plt.show()"
   ]
  },
  {
   "cell_type": "code",
   "execution_count": 58,
   "metadata": {},
   "outputs": [],
   "source": [
    "from catboost import CatBoostClassifier"
   ]
  },
  {
   "cell_type": "code",
   "execution_count": 59,
   "metadata": {
    "scrolled": true
   },
   "outputs": [
    {
     "data": {
      "image/png": "[encoded data removed]",
      "text/plain": [
       "<Figure size 432x288 with 1 Axes>"
      ]
     },
     "metadata": {
      "needs_background": "light"
     },
     "output_type": "display_data"
    }
   ],
   "source": [
    "clf = CatBoostClassifier(\n",
    "#     eval_metric = 'AUC'\n",
    "    logging_level='Silent'\n",
    ")\n",
    "\n",
    "# whole model\n",
    "clf.fit(X_train, y_train)\n",
    "\n",
    "y_pred = clf.predict_proba(X_test)[:, 1]\n",
    "fpr, tpr, _ = metrics.roc_curve(y_test,  y_pred)\n",
    "auc = metrics.auc(fpr, tpr)\n",
    "\n",
    "plt.plot(fpr, tpr, label=\"AUC=\"+str(auc))\n",
    "plt.ylabel('True Positive Rate')\n",
    "plt.xlabel('False Positive Rate')\n",
    "plt.legend(loc=4)\n",
    "plt.show()"
   ]
  },
  {
   "cell_type": "code",
   "execution_count": 60,
   "metadata": {},
   "outputs": [
    {
     "name": "stderr",
     "output_type": "stream",
     "text": [
      "/opt/anaconda3/lib/python3.7/site-packages/statsmodels/tools/_testing.py:19: FutureWarning: pandas.util.testing is deprecated. Use the functions in the public API at pandas.testing instead.\n",
      "  import pandas.util.testing as tm\n"
     ]
    }
   ],
   "source": [
    "import seaborn as sns"
   ]
  },
  {
   "cell_type": "code",
   "execution_count": 61,
   "metadata": {},
   "outputs": [],
   "source": [
    "def plot_feature_importance(importance,names,model_type):\n",
    "    \n",
    "    #Create arrays from feature importance and feature names\n",
    "    feature_importance = np.array(importance)\n",
    "    feature_names = np.array(names)\n",
    "    \n",
    "    #Create a DataFrame using a Dictionary\n",
    "    data={'feature_names':feature_names,'feature_importance':feature_importance}\n",
    "    fi_df = pd.DataFrame(data)\n",
    "    \n",
    "    #Sort the DataFrame in order decreasing feature importance\n",
    "    fi_df.sort_values(by=['feature_importance'], ascending=False,inplace=True)\n",
    "    \n",
    "    #Define size of bar plot\n",
    "    plt.figure(figsize=(13,10))\n",
    "    #Plot Searborn bar chart\n",
    "    sns.barplot(x=fi_df['feature_importance'], y=fi_df['feature_names'])\n",
    "    #Add chart labels\n",
    "    plt.title(model_type + 'FEATURE IMPORTANCE')\n",
    "    plt.xlabel('FEATURE IMPORTANCE')\n",
    "    plt.ylabel('FEATURE NAMES')"
   ]
  },
  {
   "cell_type": "code",
   "execution_count": 62,
   "metadata": {
    "scrolled": false
   },
   "outputs": [
    {
     "data": {
      "image/png": "[encoded data removed]",
      "text/plain": [
       "<Figure size 936x720 with 1 Axes>"
      ]
     },
     "metadata": {
      "needs_background": "light"
     },
     "output_type": "display_data"
    }
   ],
   "source": [
    "plot_feature_importance(clf.get_feature_importance(),X_train.columns,'CATBOOST')"
   ]
  },
  {
   "cell_type": "code",
   "execution_count": null,
   "metadata": {},
   "outputs": [],
   "source": []
  }
 ],
 "metadata": {
  "kernelspec": {
   "display_name": "Python 3",
   "language": "python",
   "name": "python3"
  },
  "language_info": {
   "codemirror_mode": {
    "name": "ipython",
    "version": 3
   },
   "file_extension": ".py",
   "mimetype": "text/x-python",
   "name": "python",
   "nbconvert_exporter": "python",
   "pygments_lexer": "ipython3",
   "version": "3.7.4"
  }
 },
 "nbformat": 4,
 "nbformat_minor": 2
}
